{
 "cells": [
  {
   "cell_type": "markdown",
   "id": "cd63e20e",
   "metadata": {},
   "source": [
    "# Financial Markets"
   ]
  },
  {
   "cell_type": "markdown",
   "id": "dd9aa4aa",
   "metadata": {},
   "source": [
    "In economics, a financial market is a mechanism that brings people together to buy and sell (trade) financial securities (such as stocks and bonds), commodities (such as precious metals or agricultural goods), currencies, and other fungible items of value. By bring buyers and sellers together in one place they can trade more efficiently, reducing costs, and share information, resulting in fairer pricing."
   ]
  },
  {
   "cell_type": "markdown",
   "id": "caa56611",
   "metadata": {},
   "source": [
    "# Quantitative Finance"
   ]
  },
  {
   "cell_type": "markdown",
   "id": "c9b470cb",
   "metadata": {},
   "source": [
    "Quantitative Finance is an applied discipline dealing with the application of mathematical techniques to decision problems in finance. We can divide these problems into two main branches: (1) the pricing of individual financial securities or opportunities and (2) the management of portfolios of such securities and opportunities. Ultimately, such analyses rest on the estimation of cash-flows across time and of the uncertainties associated with those cash-flows."
   ]
  },
  {
   "cell_type": "markdown",
   "id": "22f9c466",
   "metadata": {},
   "source": []
  }
 ],
 "metadata": {
  "kernelspec": {
   "display_name": ".venv_qf (3.13.5)",
   "language": "python",
   "name": "python3"
  },
  "language_info": {
   "name": "python",
   "version": "3.13.5"
  }
 },
 "nbformat": 4,
 "nbformat_minor": 5
}
